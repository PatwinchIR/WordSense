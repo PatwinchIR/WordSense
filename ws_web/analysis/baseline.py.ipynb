{
 "cells": [
  {
   "cell_type": "markdown",
   "metadata": {},
   "source": [
    "Data Collection Time Stats:\n",
    "\n",
    "- For transcript 5686, 1959 tokens needs to be tagged\n",
    "- 1701 Unique Tokens received tags with WordNet sense(s).\n",
    "- 5693 Tags received.\n",
    "\n",
    "```\n",
    "Participant   Time Taken\t# Tokens Received Tags In WordNet\t\t\tSpeed (tokens/min)\n",
    "62            11.5 h \t\t1653\t\t\t\t\t\t\t\t\t\t2.3957\n",
    "\n",
    "60            12.5 h \t\t1665\t\t\t\t\t\t\t\t\t\t2.2200\n",
    "\n",
    "61            10   h\t\t1648\t\t\t\t\t\t\t\t\t\t2.7467\n",
    "```\n",
    "\n",
    "AVG Speed (tokens/min/person): 2.454\n",
    "\n",
    "In Collection 3 (Eng-NA), there are in total 3,748,763 tokens that requires tagging\n"
   ]
  },
  {
   "cell_type": "markdown",
   "metadata": {},
   "source": [
    "# Data Preview"
   ]
  },
  {
   "cell_type": "code",
   "execution_count": 2,
   "metadata": {
    "collapsed": true
   },
   "outputs": [
    {
     "name": "stdout",
     "output_type": "stream",
     "text": [
      "  gloss_with_replacement  participant_id  sense_offset part_of_speech  \\\n0                   like              55       1825962              v   \n1                  think              55        628491              v   \n2                  think              55        631737              v   \n3                  think              55        689344              v   \n4                  think              55        689809              v   \n5                 reason              55       5819149              n   \n6                     do              55       2561995              v   \n7                pretend              55       2275799              v   \n8                 school              55       4146050              n   \n9                 school              55       8276720              n   \n\n   token_id  \n0   4013210  \n1   5124933  \n2   5124933  \n3   5124933  \n4   5124933  \n5   5125176  \n6   5125581  \n7   4287775  \n8   4287803  \n9   4287803  \n"
     ]
    }
   ],
   "source": [
    "import matplotlib.pyplot as plt\n",
    "import seaborn as sns\n",
    "import pandas as pd\n",
    "\n",
    "\n",
    "tags_df = pd.read_csv(\"tags.csv\", names=[\"gloss_with_replacement\",\n",
    "                                         \"participant_id\",\n",
    "                                         \"sense_offset\",\n",
    "                                         \"part_of_speech\",\n",
    "                                         \"token_id\"],\n",
    "                      header=None\n",
    "                      )\n",
    "\n",
    "tags_df.sense_offset = tags_df.sense_offset.fillna(0)\n",
    "tags_df.sense_offset = tags_df.sense_offset.astype(int)\n",
    "\n",
    "print(tags_df[:10])\n"
   ]
  },
  {
   "cell_type": "markdown",
   "metadata": {},
   "source": [
    "## Basic Stats"
   ]
  },
  {
   "cell_type": "code",
   "execution_count": 3,
   "metadata": {},
   "outputs": [
    {
     "name": "stdout",
     "output_type": "stream",
     "text": [
      "participant_id \t\t# of tokens tagged\n55 \t\t\t 25 \n\n\nparticipant_id \t\t# of tokens tagged\n59 \t\t\t 5 \n\n\nparticipant_id \t\t# of tokens tagged\n60 \t\t\t 1665 \n\n\nparticipant_id \t\t# of tokens tagged\n61 \t\t\t 1648 \n\n\nparticipant_id \t\t# of tokens tagged\n62 \t\t\t 1653 \n\n\n"
     ]
    }
   ],
   "source": [
    "grouped_df = tags_df.groupby([\"participant_id\", \"token_id\"]).size().groupby(level=0)\n",
    "\n",
    "for key, item in grouped_df:\n",
    "    print(\"participant_id\", \"\\t\\t# of tokens tagged\")\n",
    "    print(key, \"\\t\\t\\t\", grouped_df.get_group(key).size, \"\\n\\n\")\n"
   ]
  },
  {
   "cell_type": "markdown",
   "metadata": {},
   "source": [
    "According to the above data, choosing participant 60, 61, 62 as targets.\n",
    "\n",
    "# Preparation"
   ]
  },
  {
   "cell_type": "code",
   "execution_count": 4,
   "metadata": {
    "collapsed": false
   },
   "outputs": [
    {
     "name": "stdout",
     "output_type": "stream",
     "text": [
      "# of Tokens:  1701\n"
     ]
    }
   ],
   "source": [
    "participant_ids = [60, 61, 62]\n",
    "\n",
    "token_id_set = set(tags_df.token_id.unique())\n",
    "print(\"# of Tokens: \", len(token_id_set))\n",
    "\n",
    "from nltk.corpus import wordnet as wn\n",
    "\n",
    "pos_map = {\n",
    "    'v': wn.VERB,\n",
    "    'n': wn.NOUN,\n",
    "    'adj': wn.ADJ,\n",
    "    'adv': wn.ADV\n",
    "}\n",
    "\n",
    "from collections import defaultdict, Counter\n",
    "\n",
    "tags_count_smooth = defaultdict(Counter)"
   ]
  },
  {
   "cell_type": "markdown",
   "metadata": {},
   "source": [
    "### Random Data Generation"
   ]
  },
  {
   "cell_type": "code",
   "execution_count": 5,
   "metadata": {
    "collapsed": true
   },
   "outputs": [],
   "source": [
    "import random\n",
    "\n",
    "grouped_token = tags_df.groupby([\"token_id\", \"participant_id\"]).size().reset_index(name=\"size\")\n",
    "\n",
    "raw_tags_df = tags_df.loc[tags_df.participant_id.isin(participant_ids), [\"token_id\", \"participant_id\", \"sense_offset\"]]\n",
    "random_tags_df = pd.DataFrame()\n",
    "\n",
    "for token_id in token_id_set:\n",
    "    token_gloss = tags_df.loc[tags_df.token_id == token_id, \"gloss_with_replacement\"].iloc[0]\n",
    "    token_pos = tags_df.loc[tags_df.token_id == token_id, \"part_of_speech\"].iloc[0]\n",
    "    senses = list(map(lambda synset_obj: synset_obj.offset(), wn.synsets(token_gloss, pos_map[token_pos])))\n",
    "    tags_count_smooth[token_id].update(senses)\n",
    "\n",
    "    for participant_id in participant_ids:\n",
    "        num_selected_s = grouped_token.loc[\n",
    "            (grouped_token.token_id==token_id) & (grouped_token.participant_id==participant_id), \"size\"\n",
    "        ]\n",
    "        num_selected = 0 if num_selected_s.empty else num_selected_s.iloc[0]\n",
    "        \n",
    "        random.shuffle(senses)\n",
    "        random_selection = senses[:num_selected]\n",
    "        for selection in random_selection:\n",
    "            random_tags_df = random_tags_df.append(\n",
    "                {\"token_id\": token_id,\n",
    "                 \"participant_id\": participant_id, \n",
    "                 \"sense_offset\": selection}, ignore_index=True).astype(int)"
   ]
  },
  {
   "cell_type": "code",
   "execution_count": 6,
   "metadata": {},
   "outputs": [
    {
     "name": "stdout",
     "output_type": "stream",
     "text": [
      "5691 5693\n"
     ]
    }
   ],
   "source": [
    "print(len(random_tags_df), len(raw_tags_df))\n"
   ]
  },
  {
   "cell_type": "markdown",
   "metadata": {},
   "source": [
    "# Entropy over each token:\n",
    "\n",
    "\n",
    "### Preprocessing Counts:"
   ]
  },
  {
   "cell_type": "code",
   "execution_count": 51,
   "metadata": {
    "collapsed": true
   },
   "outputs": [
    {
     "name": "stdout",
     "output_type": "stream",
     "text": [
      "[(5136384, Counter({1170052: 3})), (5120004, Counter({0: 3})), (5193741, Counter({7745466: 3})), (5103634, Counter({0: 2, 96921: 1})), (5144602, Counter({7828807: 3, 5716462: 1})), (5193754, Counter({7643306: 3})), (5136418, Counter({7914271: 3})), (5160995, Counter({36780: 3, 1251228: 3})), (5095460, Counter({10112591: 3})), (5111857, Counter({3982060: 3}))]\n[(5136384, Counter({1170052: 13, 1171183: 1, 1175467: 1, 737005: 1, 1172275: 1})), (5120004, Counter({0: 9, 7392982: 1, 14286549: 1, 7275489: 1, 4693900: 1})), (5193741, Counter({7745466: 10, 12655869: 1, 7123870: 1})), (5103634, Counter({0: 6, 96921: 4, 96333: 1, 97011: 1, 96760: 1, 96636: 1})), (5144602, Counter({7828807: 10, 5716462: 4, 12086539: 1})), (5193754, Counter({7643306: 10, 7643981: 1, 14925198: 1})), (5136418, Counter({7914271: 10, 10615179: 1})), (5160995, Counter({1251228: 10, 36780: 10, 2477755: 1})), (5095460, Counter({10112591: 10, 9785042: 1, 9763784: 1, 10677713: 1, 9679708: 1})), (5111857, Counter({3982060: 10, 9397391: 1, 8481369: 1, 8236438: 1, 13369857: 1, 9397607: 1, 13369474: 1, 8665101: 1, 501080: 1}))]\n[(5136384, Counter({1171183: 2, 1170052: 1})), (5120004, Counter({7275489: 2, 4693900: 1})), (5193741, Counter({7745466: 2, 7123870: 1})), (5103634, Counter({96921: 1, 96760: 1, 96636: 1})), (5144602, Counter({5716462: 2, 12086539: 1, 7828807: 1})), (5193754, Counter({14925198: 2, 7643981: 1})), (5136418, Counter({10615179: 3})), (5160995, Counter({36780: 3, 1251228: 3})), (5095460, Counter({10677713: 2, 10112591: 1})), (5111857, Counter({3982060: 2, 9397607: 1}))]\n"
     ]
    }
   ],
   "source": [
    "from copy import deepcopy\n",
    "\n",
    "tags_count = defaultdict(Counter)\n",
    "\n",
    "random_tags_count = defaultdict(Counter)\n",
    "random_tags_count_smooth = deepcopy(tags_count_smooth)\n",
    "\n",
    "for token_id in token_id_set:\n",
    "    chosen_senses = list(raw_tags_df[raw_tags_df.token_id == token_id].sense_offset)\n",
    "    random_chosen_senses = list(random_tags_df[random_tags_df.token_id == token_id].sense_offset)\n",
    "    \n",
    "    tags_count[token_id].update(chosen_senses)\n",
    "    tags_count_smooth[token_id].update(chosen_senses)\n",
    "    \n",
    "    random_tags_count[token_id].update(random_chosen_senses)\n",
    "    random_tags_count_smooth[token_id].update(random_chosen_senses)\n",
    "    \n",
    "\n",
    "from itertools import islice\n",
    "\n",
    "\n",
    "def take(n, iterable):\n",
    "    \"Return first n items of the iterable as a list\"\n",
    "    return list(islice(iterable, n))\n",
    "\n",
    "print(take(10, tags_count.items()))\n",
    "print(take(10, tags_count_smooth.items()))\n",
    "\n",
    "print(take(10, random_tags_count.items()))\n"
   ]
  },
  {
   "cell_type": "markdown",
   "metadata": {},
   "source": [
    "### Entropy Computation (`scipy.stats.entropy`):"
   ]
  },
  {
   "cell_type": "code",
   "execution_count": 56,
   "metadata": {},
   "outputs": [
    {
     "name": "stdout",
     "output_type": "stream",
     "text": [
      "Token Entropy:  [(5136384, 0.0), (5120004, 0.0), (5193741, 0.0), (5103634, 0.6365141682948128), (5144602, 0.5623351446188083), (5193754, 0.0), (5136418, 0.0), (5160995, 0.6931471805599453), (5095460, 0.0), (5111857, 0.0)] \n\nToken Entropy Smooth:  [(5136384, 0.8717814824679821), (5120004, 1.0437938808441543), (5193741, 0.5660857389596289), (5103634, 1.475076311054695), (5144602, 0.8033149761408755), (5193754, 0.5660857389596289), (5136418, 0.30463609734923813), (5160995, 0.8515842539195699), (5095460, 0.994353691762369), (5111857, 1.6111578173439172)] \n\nRandom Entropy:  [(5136384, 0.6365141682948128), (5120004, 0.6365141682948128), (5193741, 0.6365141682948128), (5103634, 1.0986122886681096), (5144602, 1.0397207708399179), (5193754, 0.6365141682948128), (5136418, 0.0), (5160995, 0.6931471805599453), (5095460, 0.6365141682948128), (5111857, 0.6365141682948128)] \n\n"
     ]
    }
   ],
   "source": [
    "\n",
    "from scipy.stats import entropy\n",
    "\n",
    "\n",
    "def compute_entropy(tags):\n",
    "    token_entropy = dict()\n",
    "    for token_id, tag_count in tags.items():\n",
    "        token_entropy[token_id] = entropy(list(tag_count.values()))\n",
    "    return token_entropy\n",
    "\n",
    "\n",
    "token_entropy = compute_entropy(tags_count)\n",
    "token_entropy_smooth = compute_entropy(tags_count_smooth)\n",
    "\n",
    "random_entropy = compute_entropy(random_tags_count)\n",
    "random_entropy_smooth = compute_entropy(random_tags_count_smooth)\n",
    "\n",
    "print(\"Token Entropy: \", take(10, token_entropy.items()), \"\\n\")\n",
    "print(\"Token Entropy Smooth: \", take(10, token_entropy_smooth.items()), \"\\n\")\n",
    "\n",
    "print(\"Random Entropy: \", take(10, random_entropy.items()), \"\\n\"\n",
    "      )\n"
   ]
  },
  {
   "cell_type": "markdown",
   "metadata": {},
   "source": [
    "### Plots:"
   ]
  },
  {
   "cell_type": "code",
   "execution_count": 57,
   "metadata": {},
   "outputs": [
    {
     "name": "stdout",
     "output_type": "stream",
     "text": [
      "   token_id   entropy\n0   5136384  0.000000\n1   5120004  0.000000\n2   5193741  0.000000\n3   5103634  0.636514\n4   5144602  0.562335\n5   5193754  0.000000\n6   5136418  0.000000\n7   5160995  0.693147\n8   5095460  0.000000\n9   5111857  0.000000\n   token_id   entropy\n0   5136384  1.087761\n1   5120004  1.377820\n2   5193741  0.721464\n3   5103634  1.648847\n4   5144602  0.970116\n5   5193754  0.959615\n6   5136418  0.655482\n7   5160995  0.851584\n8   5095460  1.215388\n9   5111857  1.714743\n"
     ]
    }
   ],
   "source": [
    "columns=[\"token_id\", \"entropy\"]\n",
    "\n",
    "token_entropy_df = pd.DataFrame(token_entropy.items(), columns=columns)\n",
    "token_entropy_smooth_df = pd.DataFrame(token_entropy_smooth.items(), columns=columns)\n",
    "\n",
    "random_entropy_df = pd.DataFrame(random_entropy.items(), columns=columns)\n",
    "random_entropy_smooth_df = pd.DataFrame(random_entropy_smooth.items(), columns=columns)\n",
    "\n",
    "print(token_entropy_df[:10])\n",
    "print(random_entropy_smooth_df[:10])\n"
   ]
  },
  {
   "cell_type": "code",
   "execution_count": 62,
   "metadata": {},
   "outputs": [
    {
     "name": "stdout",
     "output_type": "stream",
     "text": [
      "# of Tokens:  1701\n"
     ]
    },
    {
     "data": {
      "text/plain": [
       "<matplotlib.legend.Legend at 0x1a2485d4a8>"
      ]
     },
     "execution_count": 62,
     "metadata": {},
     "output_type": "execute_result"
    },
    {
     "data": {
      "image/png": "[encoded data removed]",
      "text/plain": [
       "<Figure size 842.4x626.4 with 1 Axes>"
      ]
     },
     "metadata": {},
     "output_type": "display_data"
    }
   ],
   "source": [
    "from matplotlib import pyplot\n",
    "\n",
    "entropy_dist_df = token_entropy_df[\"entropy\"]\n",
    "random_entropy_dist_df = random_entropy_df[\"entropy\"]\n",
    "print(\"# of Tokens: \", len(token_entropy_df))\n",
    "\n",
    "\n",
    "a4_dims = (11.7, 8.7)\n",
    "fig, ax = pyplot.subplots(figsize=a4_dims)\n",
    "ax.set_title(\"Entropy Distribution (Random vs Collected)\")\n",
    "random_entropy_dist_df.hist(alpha=0.5, label=\"Random Data\", ax=ax)\n",
    "entropy_dist_df.hist(alpha=0.5, label=\"Collected Data\", ax=ax)\n",
    "ax.legend()\n"
   ]
  },
  {
   "cell_type": "code",
   "execution_count": 48,
   "metadata": {},
   "outputs": [
    {
     "name": "stdout",
     "output_type": "stream",
     "text": [
      "      token_id   entropy gloss_with_replacement part_of_speech\n1092   5125422  1.747868                 better            adv\n668    5139796  1.695743                   make              v\n341    5097289  1.549826                   know              v\n833    5107832  1.475076                   make              v\n940    5108402  1.386294                    see              v\n875    5181766  1.386294                   make              v\n1441   5176021  1.351784                  world              n\n1407   5175893  1.351784                  world              n\n949    5133025  1.332179                   come              v\n456    5138793  1.332179                  night              n\n1170   5101206  1.332179                   have              v\n481    5138903  1.329661                  night              n\n1041   5141602  1.320888                   make              v\n720    5090917  1.313834                    end              n\n36     5095652  1.277034                     go              v\n175    5145531  1.277034                   make              v\n807    5099522  1.277034                  think              v\n679    5139868  1.277034                   make              v\n772    5107534  1.277034                   hard            adv\n646    5139689  1.242453                     do              v\n801    5115872  1.098612                  there            adv\n954    5174000  1.098612                   says              v\n948    5182160  1.098612                   sing              v\n1054   5100708  1.098612                   know              v\n963    5182239  1.098612                   sing              v\n1282   5101616  1.098612                  there            adv\n1149   5092895  1.098612                   make              v\n1012   5190652  1.098612                 carrot              n\n309    5162653  1.098612                  paint              v\n1189   5142251  1.098612                   goes              v\n...        ...       ...                    ...            ...\n51     5095710  1.039721                    let              v\n1437   5143245  1.039721                    put              v\n208    5096554  1.039721                     do              v\n1064   5158079  1.039721                   make              v\n1155   5150278  1.039721                  sound              n\n1670   5136220  1.039721               fountain              n\n1471   5094221  1.039721                  there            adv\n62     5120346  1.039721                   here            adv\n1329   5134590  1.039721                    get              v\n729    5090955  1.011404                    day              n\n805    5091322  1.011404                  truth              n\n169    5145509  1.011404                   time              n\n1193   5183230  1.011404               together            adv\n707    5090867  1.011404                    day              n\n41     5120245  1.011404                   know              v\n145    5145397  1.011404                   time              n\n639    5098708  1.011404                   hair              n\n1048   5092490  1.011404                   mean              v\n1082   5125380  1.011404                   know              v\n1181   5150411  1.011404                   make              v\n1108   5150064  1.004242                carrots              n\n475    5097923  1.004242                  wants              v\n1080   5149945  1.004242                carrots              n\n1050   5149844  1.004242                carrots              n\n1044   5108848  0.950271                   want              v\n503    5147198  0.950271                   hair              n\n1481   5118836  0.950271                    say              v\n1197   5109515  0.950271                  think              v\n1572   5119311  0.950271                    say              v\n483    5147099  0.950271                   hair              n\n\n[100 rows x 4 columns]\n"
     ]
    }
   ],
   "source": [
    "\n",
    "tokens_df = tags_df[[\"token_id\", \"gloss_with_replacement\", \"part_of_speech\"]].drop_duplicates()\n",
    "\n",
    "merged_token_entropy = pd.merge(token_entropy_df, tokens_df, on=\"token_id\", how=\"left\")\n",
    "\n",
    "print(merged_token_entropy.sort_values(by=\"entropy\", ascending=False)[:100])\n",
    "\n",
    "merged_token_entropy.to_csv(\"tags_entropy.csv\", index=False)\n"
   ]
  },
  {
   "cell_type": "markdown",
   "metadata": {},
   "source": [
    "\n",
    "# KL Divergence\n",
    "\n"
   ]
  },
  {
   "cell_type": "markdown",
   "metadata": {},
   "source": [
    "### KL Divergence Computation (`scipy.stats.entropy`):"
   ]
  },
  {
   "cell_type": "code",
   "execution_count": 84,
   "metadata": {},
   "outputs": [],
   "source": [
    "import itertools\n",
    "\n",
    "\n",
    "def generate_kl(input_tags_df):\n",
    "    kl_df = pd.DataFrame()\n",
    "    \n",
    "    for token_id in token_id_set:\n",
    "        token_gloss = tags_df.loc[tags_df.token_id == token_id, \"gloss_with_replacement\"].iloc[0]\n",
    "        token_pos = tags_df.loc[tags_df.token_id == token_id, \"part_of_speech\"].iloc[0]\n",
    "        senses = list(map(lambda synset_obj: synset_obj.offset(), wn.synsets(token_gloss, pos_map[token_pos])))\n",
    "        \n",
    "        def get_prob_distribution(tagger):\n",
    "            chosen_senses_from_tagger = set(input_tags_df.loc[\n",
    "                (input_tags_df.token_id == token_id) & (input_tags_df.participant_id == tagger), \"sense_offset\"\n",
    "            ])\n",
    "            if not chosen_senses_from_tagger:\n",
    "                chosen_senses_from_tagger = set(senses)\n",
    "    \n",
    "            total_tags_by_tagger = len(chosen_senses_from_tagger)\n",
    "            return [(2 if sense_i in chosen_senses_from_tagger else 1) / (total_tags_by_tagger + 1) for sense_i in senses ]\n",
    "        \n",
    "        kl_sum = 0.0\n",
    "        for tagger_a, tagger_b in itertools.combinations(participant_ids, 2):\n",
    "            sense_prob_dist_from_a = get_prob_distribution(tagger_a)\n",
    "            sense_prob_dist_from_b = get_prob_distribution(tagger_b)\n",
    "            \n",
    "            kl_sum += entropy(pk=sense_prob_dist_from_a, qk=sense_prob_dist_from_b)\n",
    "            \n",
    "        kl_df = kl_df.append({\n",
    "            \"token_id\": token_id,\n",
    "            \"avg_kl\": len(participant_ids) * (len(participant_ids) - 1) * kl_sum\n",
    "        }, ignore_index=True)\n",
    "    \n",
    "    kl_df.token_id = kl_df.token_id.astype(int)\n",
    "    return kl_df\n",
    "\n",
    "\n",
    "tags_kl_df = generate_kl(raw_tags_df)\n",
    "random_tags_kl_df = generate_kl(random_tags_df)\n"
   ]
  },
  {
   "cell_type": "markdown",
   "metadata": {},
   "source": [
    "### Result Showcase:"
   ]
  },
  {
   "cell_type": "code",
   "execution_count": 89,
   "metadata": {},
   "outputs": [
    {
     "name": "stdout",
     "output_type": "stream",
     "text": [
      "     avg_kl  token_id\n0  0.000000   5136384\n1  0.000000   5120004\n2  0.000000   5193741\n3  0.584730   5103634\n4  0.649384   5144602\n5  0.000000   5193754\n6  0.000000   5136418\n7  0.000000   5160995\n8  0.000000   5095460\n9  0.000000   5111857\n     avg_kl  token_id\n0  1.386294   5136384\n1  1.663553   5120004\n2  2.079442   5193741\n3  2.079442   5103634\n4  2.312937   5144602\n5  2.079442   5193754\n6  0.000000   5136418\n7  0.000000   5160995\n8  1.386294   5095460\n9  0.831777   5111857\n        avg_kl  token_id gloss_with_replacement part_of_speech\n1471  2.703274   5094221                  there            adv\n918   2.187859   5108303                   here            adv\n50    2.109654   5120285                   here            adv\n62    2.109654   5120346                   here            adv\n81    2.109654   5120425                   here            adv\n1670  2.109654   5136220               fountain              n\n1617  2.092993   5176857                  whole              n\n487   2.079442   5106161                  there            adv\n1199  2.079442   5199627                  there            adv\n605   2.079442   5131286                  there            adv\n1003  2.079442   5100497                  there            adv\n1282  1.732868   5101616                  there            adv\n801   1.732868   5115872                  there            adv\n1637  1.680966   5144213                   eggs              n\n79    1.663553   5136800                   here            adv\n856   1.663553   5165306                   cone              n\n1506  1.638002   5143538                   food              n\n1578  1.638002   5143904                   food              n\n1339  1.638002   5142816                   food              n\n1309  1.638002   5142708                   food              n\n51    1.633847   5095710                    let              v\n481   1.448371   5138903                  night              n\n1092  1.427068   5125422                 better            adv\n48    1.416507   5177627                  towns              n\n1639  1.416507   5176983                  towns              n\n1680  1.416507   5177253                  towns              n\n876   1.416507   5165398                   cone              n\n1491  1.386294   5102499                  belly              n\n1550  1.386294   5102825                  belly              n\n1594  1.386294   5103023                  belly              n\n...        ...       ...                    ...            ...\n1095  0.823760   5150011                carrots              n\n341   0.813549   5097289                   know              v\n807   0.802448   5099522                  think              v\n1170  0.800812   5101206                   have              v\n348   0.784487   5162850                    put              v\n639   0.765066   5098708                   hair              n\n1075  0.742658   5092586                     do              v\n49    0.727834   5144860                   bowl              n\n949   0.723284   5133025                   come              v\n713   0.720238   5172803                 begins              v\n726   0.720238   5172857                 begins              v\n737   0.720238   5172907                 begins              v\n582   0.720238   5172112                 begins              v\n1441  0.715519   5176021                  world              n\n1407  0.715519   5175893                  world              n\n307   0.715342   5179028                   eggs              n\n1155  0.711143   5150278                  sound              n\n1048  0.711143   5092490                   mean              v\n830   0.706698   5181541                thunder              n\n1607  0.706698   5168632                    out            adv\n1685  0.706698   5193654                  jelly              n\n143   0.706698   5120815                    out            adv\n322   0.706698   5129971                     on            adv\n1144  0.706698   5191156                 grapes              n\n964   0.706698   5157668                     on            adv\n152   0.706698   5186384                    out            adv\n1043  0.706698   5190765                 grapes              n\n1212  0.706698   5166898                    out            adv\n709   0.706698   5189174                  there            adv\n663   0.706698   5180737              lightning              n\n\n[100 rows x 4 columns]\n"
     ]
    }
   ],
   "source": [
    "print(tags_kl_df[:10])\n",
    "print(random_tags_kl_df[:10])\n",
    "\n",
    "merged_token_kl = pd.merge(tags_kl_df, tokens_df, on=\"token_id\", how=\"left\")\n",
    "\n",
    "print(merged_token_kl.sort_values(by=\"avg_kl\", ascending=False)[:100])\n",
    "\n",
    "merged_token_kl.to_csv(\"tags_avg_kl.csv\", index=False)\n"
   ]
  },
  {
   "cell_type": "markdown",
   "metadata": {},
   "source": [
    "### Plot:"
   ]
  },
  {
   "cell_type": "code",
   "execution_count": 87,
   "metadata": {},
   "outputs": [
    {
     "data": {
      "text/plain": [
       "<matplotlib.legend.Legend at 0x1a24555080>"
      ]
     },
     "execution_count": 87,
     "metadata": {},
     "output_type": "execute_result"
    },
    {
     "data": {
      "image/png": "[encoded data removed]",
      "text/plain": [
       "<Figure size 842.4x626.4 with 1 Axes>"
      ]
     },
     "metadata": {},
     "output_type": "display_data"
    }
   ],
   "source": [
    "kl_dist_df = tags_kl_df[\"avg_kl\"]\n",
    "random_kl_dist_df = random_tags_kl_df[\"avg_kl\"]\n",
    "\n",
    "fig1, ax1 = pyplot.subplots(figsize=a4_dims)\n",
    "ax1.set_title(\"AVG KL Divergence Distribution (Random vs Collected)\")\n",
    "random_kl_dist_df.hist(alpha=0.5, label=\"Random Data\", ax=ax1)\n",
    "kl_dist_df.hist(alpha=0.5, label=\"Collected Data\", ax=ax1)\n",
    "ax1.legend()\n"
   ]
  },
  {
   "cell_type": "code",
   "execution_count": null,
   "metadata": {},
   "outputs": [],
   "source": []
  }
 ],
 "metadata": {
  "kernelspec": {
   "display_name": "Python 2",
   "language": "python",
   "name": "python2"
  },
  "language_info": {
   "codemirror_mode": {
    "name": "ipython",
    "version": 2
   },
   "file_extension": ".py",
   "mimetype": "text/x-python",
   "name": "python",
   "nbconvert_exporter": "python",
   "pygments_lexer": "ipython2",
   "version": "2.7.6"
  }
 },
 "nbformat": 4,
 "nbformat_minor": 0
}
