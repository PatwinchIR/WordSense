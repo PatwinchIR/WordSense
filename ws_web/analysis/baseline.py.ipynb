{
 "cells": [
  {
   "cell_type": "code",
   "execution_count": 145,
   "metadata": {},
   "outputs": [],
   "source": [
    "%load_ext rpy2.ipython\n",
    "import rpy2.robjects.lib.ggplot2 as ggplot2\n",
    "import matplotlib.pyplot as plt\n",
    "import seaborn as sns\n",
    "import pandas as pd\n",
    "import numpy as np"
   ]
  },
  {
   "cell_type": "markdown",
   "metadata": {},
   "source": [
    "Data Collection Time Stats:\n",
    "\n",
    "- For transcript 5686, 1959 tokens needs to be tagged\n",
    "- 1701 Unique Tokens received tags with WordNet sense(s).\n",
    "- 5693 Tags received.\n",
    "\n",
    "```\n",
    "Participant   Time Taken\t# Tokens Received Tags In WordNet\t\t\tSpeed (tokens/min)\n",
    "62            11.5 h \t\t1653\t\t\t\t\t\t\t\t\t\t2.3957\n",
    "\n",
    "60            12.5 h \t\t1665\t\t\t\t\t\t\t\t\t\t2.2200\n",
    "\n",
    "61            10   h\t\t1648\t\t\t\t\t\t\t\t\t\t2.7467\n",
    "```\n",
    "\n",
    "AVG Speed (tokens/min/person): 2.454\n",
    "\n",
    "In Collection 3 (Eng-NA), there are in total 3,748,763 tokens that requires tagging\n"
   ]
  },
  {
   "cell_type": "code",
   "execution_count": 121,
   "metadata": {},
   "outputs": [],
   "source": [
    "def getEstimatesForTokenCount(tokenCount, tokensPerMinute, numTagsPerToken):\n",
    "    print('Processing '+str(tokenCount)+' at the rate of '+str(tokensPerMinute)+' tokens '+ \n",
    "    'per minute, and assuming '+str(numTagsPerToken)+' redundant judgments will take:')\n",
    "    num_hours = ((tokenCount / tokensPerMinute) / 60)*numTagsPerToken\n",
    "    print(str(round(num_hours)) + ' hours')\n",
    "    print('~ or about ~')\n",
    "    print(str(round(num_hours / 2000))+' person-years')\n",
    "    print('~ assuming US Federal minimum wage ~')\n",
    "    print('$'+str(round(7.25 * num_hours)))"
   ]
  },
  {
   "cell_type": "code",
   "execution_count": 125,
   "metadata": {},
   "outputs": [
    {
     "name": "stdout",
     "output_type": "stream",
     "text": [
      "Processing 3748763 at the rate of 2.454 tokens per minute, and assuming 3 redundant judgments will take:\n",
      "76381 hours\n",
      "~ or about ~\n",
      "38 person-years\n",
      "~ assuming US Federal minimum wage ~\n",
      "$553760\n"
     ]
    }
   ],
   "source": [
    "# All Eng-NA\n",
    "getEstimatesForTokenCount(tokenCount=3748763, tokensPerMinute=2.454, numTagsPerToken=3)"
   ]
  },
  {
   "cell_type": "code",
   "execution_count": 126,
   "metadata": {},
   "outputs": [
    {
     "name": "stdout",
     "output_type": "stream",
     "text": [
      "Processing 678296 at the rate of 2.454 tokens per minute, and assuming 3 redundant judgments will take:\n",
      "13820 hours\n",
      "~ or about ~\n",
      "7 person-years\n",
      "~ assuming US Federal minimum wage ~\n",
      "$100197\n"
     ]
    }
   ],
   "source": [
    "# Manchester\n",
    "getEstimatesForTokenCount(tokenCount=678296, tokensPerMinute=2.454, numTagsPerToken=3)"
   ]
  },
  {
   "cell_type": "markdown",
   "metadata": {},
   "source": [
    "With optimizations to the UI, we might be able to double the number of tokens tagged per minute"
   ]
  },
  {
   "cell_type": "markdown",
   "metadata": {},
   "source": [
    "# Data Preview"
   ]
  },
  {
   "cell_type": "code",
   "execution_count": 3,
   "metadata": {},
   "outputs": [
    {
     "name": "stdout",
     "output_type": "stream",
     "text": [
      "  gloss_with_replacement  participant_id  sense_offset part_of_speech  \\\n",
      "0                   like              55       1825962              v   \n",
      "1                  think              55        628491              v   \n",
      "2                  think              55        631737              v   \n",
      "3                  think              55        689344              v   \n",
      "4                  think              55        689809              v   \n",
      "5                 reason              55       5819149              n   \n",
      "6                     do              55       2561995              v   \n",
      "7                pretend              55       2275799              v   \n",
      "8                 school              55       4146050              n   \n",
      "9                 school              55       8276720              n   \n",
      "\n",
      "   token_id  \n",
      "0   4013210  \n",
      "1   5124933  \n",
      "2   5124933  \n",
      "3   5124933  \n",
      "4   5124933  \n",
      "5   5125176  \n",
      "6   5125581  \n",
      "7   4287775  \n",
      "8   4287803  \n",
      "9   4287803  \n"
     ]
    }
   ],
   "source": [
    "tags_df = pd.read_csv(\"tags.csv\", names=[\"gloss_with_replacement\",\n",
    "                                         \"participant_id\",\n",
    "                                         \"sense_offset\",\n",
    "                                         \"part_of_speech\",\n",
    "                                         \"token_id\"],\n",
    "                      header=None\n",
    "                      )\n",
    "\n",
    "tags_df.sense_offset = tags_df.sense_offset.fillna(0)\n",
    "tags_df.sense_offset = tags_df.sense_offset.astype(int)\n",
    "\n",
    "print(tags_df[:10])\n"
   ]
  },
  {
   "cell_type": "markdown",
   "metadata": {},
   "source": [
    "## Basic Stats"
   ]
  },
  {
   "cell_type": "code",
   "execution_count": 4,
   "metadata": {},
   "outputs": [
    {
     "name": "stdout",
     "output_type": "stream",
     "text": [
      "participant_id \t\t# of tokens tagged\n",
      "55 \t\t\t 25 \n",
      "\n",
      "\n",
      "participant_id \t\t# of tokens tagged\n",
      "59 \t\t\t 5 \n",
      "\n",
      "\n",
      "participant_id \t\t# of tokens tagged\n",
      "60 \t\t\t 1665 \n",
      "\n",
      "\n",
      "participant_id \t\t# of tokens tagged\n",
      "61 \t\t\t 1648 \n",
      "\n",
      "\n",
      "participant_id \t\t# of tokens tagged\n",
      "62 \t\t\t 1653 \n",
      "\n",
      "\n"
     ]
    }
   ],
   "source": [
    "grouped_df = tags_df.groupby([\"participant_id\", \"token_id\"]).size().groupby(level=0)\n",
    "\n",
    "for key, item in grouped_df:\n",
    "    print(\"participant_id\", \"\\t\\t# of tokens tagged\")\n",
    "    print(key, \"\\t\\t\\t\", grouped_df.get_group(key).size, \"\\n\\n\")\n"
   ]
  },
  {
   "cell_type": "markdown",
   "metadata": {},
   "source": [
    "According to the above data, choosing participant 60, 61, 62 as targets.\n",
    "\n",
    "# Preparation"
   ]
  },
  {
   "cell_type": "code",
   "execution_count": 5,
   "metadata": {},
   "outputs": [
    {
     "name": "stdout",
     "output_type": "stream",
     "text": [
      "# of Tokens:  1701\n"
     ]
    }
   ],
   "source": [
    "participant_ids = [60, 61, 62]\n",
    "\n",
    "token_id_set = set(tags_df.token_id.unique())\n",
    "print(\"# of Tokens: \", len(token_id_set))\n",
    "\n",
    "from nltk.corpus import wordnet as wn\n",
    "\n",
    "pos_map = {\n",
    "    'v': wn.VERB,\n",
    "    'n': wn.NOUN,\n",
    "    'adj': wn.ADJ,\n",
    "    'adv': wn.ADV\n",
    "}\n",
    "\n",
    "from collections import defaultdict, Counter\n",
    "\n",
    "tags_count_smooth = defaultdict(Counter)"
   ]
  },
  {
   "cell_type": "markdown",
   "metadata": {},
   "source": [
    "### Random Data Generation"
   ]
  },
  {
   "cell_type": "code",
   "execution_count": 6,
   "metadata": {},
   "outputs": [],
   "source": [
    "import random\n",
    "\n",
    "grouped_token = tags_df.groupby([\"token_id\", \"participant_id\"]).size().reset_index(name=\"size\")\n",
    "\n",
    "raw_tags_df = tags_df.loc[tags_df.participant_id.isin(participant_ids), [\"token_id\", \"participant_id\", \"sense_offset\"]]\n",
    "random_tags_df = pd.DataFrame()\n",
    "\n",
    "for token_id in token_id_set:\n",
    "    token_gloss = tags_df.loc[tags_df.token_id == token_id, \"gloss_with_replacement\"].iloc[0]\n",
    "    token_pos = tags_df.loc[tags_df.token_id == token_id, \"part_of_speech\"].iloc[0]\n",
    "    senses = list(map(lambda synset_obj: synset_obj.offset(), wn.synsets(token_gloss, pos_map[token_pos])))\n",
    "    tags_count_smooth[token_id].update(senses)\n",
    "\n",
    "    for participant_id in participant_ids:\n",
    "        num_selected_s = grouped_token.loc[\n",
    "            (grouped_token.token_id==token_id) & (grouped_token.participant_id==participant_id), \"size\"\n",
    "        ]\n",
    "        num_selected = 0 if num_selected_s.empty else num_selected_s.iloc[0]\n",
    "        \n",
    "        random.shuffle(senses)\n",
    "        random_selection = senses[:num_selected]\n",
    "        for selection in random_selection:\n",
    "            random_tags_df = random_tags_df.append(\n",
    "                {\"token_id\": token_id,\n",
    "                 \"participant_id\": participant_id, \n",
    "                 \"sense_offset\": selection}, ignore_index=True).astype(int)"
   ]
  },
  {
   "cell_type": "code",
   "execution_count": 7,
   "metadata": {},
   "outputs": [
    {
     "name": "stdout",
     "output_type": "stream",
     "text": [
      "5691 5693\n"
     ]
    }
   ],
   "source": [
    "print(len(random_tags_df), len(raw_tags_df))\n"
   ]
  },
  {
   "cell_type": "markdown",
   "metadata": {},
   "source": [
    "# Entropy over each token:\n",
    "\n",
    "\n",
    "### Preprocessing Counts:"
   ]
  },
  {
   "cell_type": "code",
   "execution_count": 8,
   "metadata": {},
   "outputs": [
    {
     "name": "stdout",
     "output_type": "stream",
     "text": [
      "[(5136384, Counter({1170052: 3})), (5099522, Counter({631737: 3, 628491: 2, 739340: 1, 1637166: 1})), (5120004, Counter({0: 3})), (5200556, Counter({1848718: 2, 0: 1})), (5132300, Counter({4335209: 3, 4334599: 3})), (5193741, Counter({7745466: 3})), (5184914, Counter({0: 3})), (5103634, Counter({0: 2, 96921: 1})), (5173272, Counter({0: 3})), (5144602, Counter({7828807: 3, 5716462: 1}))]\n",
      "[(5136384, Counter({1170052: 4, 1172275: 1, 1175467: 1, 737005: 1, 1171183: 1})), (5099522, Counter({631737: 4, 628491: 3, 739340: 2, 1637166: 2, 689344: 1, 607780: 1, 608808: 1, 629738: 1, 723056: 1, 689809: 1, 708538: 1, 739082: 1, 561887: 1})), (5120004, Counter({0: 3, 7275489: 1, 4693900: 1, 14286549: 1, 7392982: 1})), (5200556, Counter({1848718: 3, 434374: 1, 1318849: 1, 676267: 1, 2721284: 1, 1192773: 1, 2617798: 1, 1076615: 1, 539110: 1, 2176268: 1, 149583: 1, 2618001: 1, 2737876: 1, 2729819: 1, 0: 1, 2618149: 1, 1192992: 1, 1525666: 1, 2700772: 1, 1864230: 1, 2653862: 1, 2700455: 1, 1835496: 1, 2686471: 1, 359916: 1, 2659763: 1, 341560: 1, 2700666: 1, 358431: 1, 2372605: 1, 2685951: 1})), (5132300, Counter({4335209: 4, 4334599: 4, 14516256: 1, 8225426: 1, 14485811: 1})), (5193741, Counter({7745466: 4, 12655869: 1, 7123870: 1})), (5184914, Counter({0: 3, 7366145: 1, 4300741: 1, 4038440: 1, 8653706: 1, 2786984: 1, 4299215: 1, 8438384: 1, 4301000: 1, 960851: 1, 6210363: 1, 2797692: 1, 1057053: 1})), (5103634, Counter({0: 2, 96921: 2, 97011: 1, 96760: 1, 96636: 1, 96333: 1})), (5173272, Counter({0: 3, 71840: 1, 358114: 1, 72201: 1, 72329: 1, 7015: 1, 71165: 1, 73033: 1})), (5144602, Counter({7828807: 4, 5716462: 2, 12086539: 1}))]\n",
      "[(5136384, Counter({1170052: 2, 1175467: 1})), (5099522, Counter({1637166: 2, 723056: 1, 608808: 1, 631737: 1, 629738: 1, 561887: 1})), (5120004, Counter({7275489: 2, 4693900: 1})), (5200556, Counter({1192992: 1, 1835496: 1, 1192773: 1})), (5132300, Counter({14485811: 3, 14516256: 2, 4334599: 1})), (5193741, Counter({7123870: 2, 12655869: 1})), (5184914, Counter({2786984: 1, 7366145: 1, 8653706: 1})), (5103634, Counter({96760: 2, 96921: 1})), (5173272, Counter({72201: 1, 71165: 1, 73033: 1})), (5144602, Counter({12086539: 2, 5716462: 1, 7828807: 1}))]\n"
     ]
    }
   ],
   "source": [
    "from copy import deepcopy\n",
    "\n",
    "tags_count = defaultdict(Counter)\n",
    "\n",
    "random_tags_count = defaultdict(Counter)\n",
    "random_tags_count_smooth = deepcopy(tags_count_smooth)\n",
    "\n",
    "for token_id in token_id_set:\n",
    "    chosen_senses = list(raw_tags_df[raw_tags_df.token_id == token_id].sense_offset)\n",
    "    random_chosen_senses = list(random_tags_df[random_tags_df.token_id == token_id].sense_offset)\n",
    "    \n",
    "    tags_count[token_id].update(chosen_senses)\n",
    "    tags_count_smooth[token_id].update(chosen_senses)\n",
    "    \n",
    "    random_tags_count[token_id].update(random_chosen_senses)\n",
    "    random_tags_count_smooth[token_id].update(random_chosen_senses)\n",
    "    \n",
    "\n",
    "from itertools import islice\n",
    "\n",
    "\n",
    "def take(n, iterable):\n",
    "    \"Return first n items of the iterable as a list\"\n",
    "    return list(islice(iterable, n))\n",
    "\n",
    "print(take(10, tags_count.items()))\n",
    "print(take(10, tags_count_smooth.items()))\n",
    "\n",
    "print(take(10, random_tags_count.items()))\n"
   ]
  },
  {
   "cell_type": "markdown",
   "metadata": {},
   "source": [
    "### Entropy Computation (`scipy.stats.entropy`):"
   ]
  },
  {
   "cell_type": "code",
   "execution_count": 10,
   "metadata": {},
   "outputs": [
    {
     "name": "stdout",
     "output_type": "stream",
     "text": [
      "Token Entropy:  [(5136384, 0.0), (5099522, 1.277034259466139), (5120004, 0.0), (5143212, 0.0), (5132300, 0.6931471805599453), (5124109, 0.0), (5156882, 0.5623351446188083), (5109081, 0.6365141682948128), (5173272, 0.0), (5144602, 0.5623351446188083)] \n",
      "\n",
      "Token Entropy Smooth:  [(5136384, 1.3862943611198906), (5099522, 2.4150521219178076), (5120004, 1.4750763110546947), (5143212, 2.4260151319598084), (5132300, 1.3896811919839047), (5124109, 0.0), (5156882, 2.425479708432719), (5109081, 1.8891591637540217), (5173272, 1.9730014063936128), (5144602, 0.9556998911125343)] \n",
      "\n",
      "Random Entropy:  [(5136384, 0.6365141682948128), (5099522, 1.7478680974667573), (5120004, 0.6365141682948128), (5143212, 1.0986122886681096), (5132300, 1.0114042647073516), (5124109, 0.0), (5156882, 1.0397207708399179), (5109081, 0.6365141682948128), (5173272, 1.0986122886681096), (5144602, 1.0397207708399179)] \n",
      "\n"
     ]
    }
   ],
   "source": [
    "\n",
    "from scipy.stats import entropy\n",
    "\n",
    "\n",
    "def compute_entropy(tags):\n",
    "    token_entropy = dict()\n",
    "    for token_id, tag_count in tags.items():\n",
    "        token_entropy[token_id] = entropy(list(tag_count.values()))\n",
    "    return token_entropy\n",
    "\n",
    "\n",
    "token_entropy = compute_entropy(tags_count)\n",
    "token_entropy_smooth = compute_entropy(tags_count_smooth)\n",
    "\n",
    "random_entropy = compute_entropy(random_tags_count)\n",
    "random_entropy_smooth = compute_entropy(random_tags_count_smooth)\n",
    "\n",
    "print(\"Token Entropy: \", take(10, token_entropy.items()), \"\\n\")\n",
    "print(\"Token Entropy Smooth: \", take(10, token_entropy_smooth.items()), \"\\n\")\n",
    "\n",
    "print(\"Random Entropy: \", take(10, random_entropy.items()), \"\\n\"\n",
    "      )\n"
   ]
  },
  {
   "cell_type": "markdown",
   "metadata": {},
   "source": [
    "### Plots:"
   ]
  },
  {
   "cell_type": "code",
   "execution_count": 12,
   "metadata": {},
   "outputs": [
    {
     "name": "stdout",
     "output_type": "stream",
     "text": [
      "   token_id   entropy\n",
      "0   5136384  0.000000\n",
      "1   5099522  1.277034\n",
      "2   5120004  0.000000\n",
      "3   5143212  0.000000\n",
      "4   5132300  0.693147\n",
      "5   5124109  0.000000\n",
      "6   5156882  0.562335\n",
      "7   5109081  0.636514\n",
      "8   5173272  0.000000\n",
      "9   5144602  0.562335\n",
      "   token_id   entropy\n",
      "0   5136384  1.494175\n",
      "1   5099522  2.484367\n",
      "2   5120004  1.277034\n",
      "3   5200556  3.370481\n",
      "4   5132300  1.468140\n",
      "5   5124109  0.000000\n",
      "6   5156882  2.476247\n",
      "7   5109081  1.676988\n",
      "8   5173272  1.886697\n",
      "9   5144602  1.078992\n"
     ]
    }
   ],
   "source": [
    "columns=[\"token_id\", \"entropy\"]\n",
    "\n",
    "token_entropy_df = pd.DataFrame(token_entropy.items(), columns=columns)\n",
    "token_entropy_smooth_df = pd.DataFrame(token_entropy_smooth.items(), columns=columns)\n",
    "\n",
    "random_entropy_df = pd.DataFrame(random_entropy.items(), columns=columns)\n",
    "random_entropy_smooth_df = pd.DataFrame(random_entropy_smooth.items(), columns=columns)\n",
    "\n",
    "print(token_entropy_df[:10])\n",
    "print(random_entropy_smooth_df[:10])\n"
   ]
  },
  {
   "cell_type": "code",
   "execution_count": 13,
   "metadata": {},
   "outputs": [
    {
     "name": "stdout",
     "output_type": "stream",
     "text": [
      "# of Tokens:  1701\n"
     ]
    },
    {
     "data": {
      "text/plain": [
       "<matplotlib.legend.Legend at 0x7fee9c61b6d8>"
      ]
     },
     "execution_count": 13,
     "metadata": {},
     "output_type": "execute_result"
    },
    {
     "data": {
      "image/png": "[encoded data removed]",
      "text/plain": [
       "<Figure size 842.4x626.4 with 1 Axes>"
      ]
     },
     "metadata": {
      "needs_background": "light"
     },
     "output_type": "display_data"
    }
   ],
   "source": [
    "from matplotlib import pyplot\n",
    "\n",
    "entropy_dist_df = token_entropy_df[\"entropy\"]\n",
    "random_entropy_dist_df = random_entropy_df[\"entropy\"]\n",
    "print(\"# of Tokens: \", len(token_entropy_df))\n",
    "\n",
    "\n",
    "a4_dims = (11.7, 8.7)\n",
    "fig, ax = pyplot.subplots(figsize=a4_dims)\n",
    "ax.set_title(\"Entropy Distribution (Random vs Collected)\")\n",
    "random_entropy_dist_df.hist(alpha=0.5, label=\"Random Data\", ax=ax)\n",
    "entropy_dist_df.hist(alpha=0.5, label=\"Collected Data\", ax=ax)\n",
    "ax.legend()\n"
   ]
  },
  {
   "cell_type": "code",
   "execution_count": 14,
   "metadata": {},
   "outputs": [
    {
     "name": "stdout",
     "output_type": "stream",
     "text": [
      "      token_id   entropy gloss_with_replacement part_of_speech\n",
      "535    5125422  1.747868                 better            adv\n",
      "1401   5139796  1.695743                   make              v\n",
      "762    5097289  1.549826                   know              v\n",
      "48     5107832  1.475076                   make              v\n",
      "805    5181766  1.386294                   make              v\n",
      "263    5108402  1.386294                    see              v\n",
      "1146   5176021  1.351784                  world              n\n",
      "1469   5175893  1.351784                  world              n\n",
      "680    5101206  1.332179                   have              v\n",
      "285    5133025  1.332179                   come              v\n",
      "984    5138793  1.332179                  night              n\n",
      "1030   5138903  1.329661                  night              n\n",
      "1082   5141602  1.320888                   make              v\n",
      "1514   5090917  1.313834                    end              n\n",
      "1430   5139868  1.277034                   make              v\n",
      "1620   5107534  1.277034                   hard            adv\n",
      "1      5099522  1.277034                  think              v\n",
      "375    5145531  1.277034                   make              v\n",
      "87     5095652  1.277034                     go              v\n",
      "543    5139689  1.242453                     do              v\n",
      "473    5100708  1.098612                   know              v\n",
      "310    5182239  1.098612                   sing              v\n",
      "402    5190652  1.098612                 carrot              n\n",
      "1648   5099402  1.098612                    got              v\n",
      "861    5101616  1.098612                  there            adv\n",
      "519    5174144  1.098612                   says              v\n",
      "629    5092895  1.098612                   make              v\n",
      "292    5174000  1.098612                   says              v\n",
      "682    5162653  1.098612                  paint              v\n",
      "988    5134708  1.098612                    get              v\n",
      "...        ...       ...                    ...            ...\n",
      "1298   5132133  1.039721                 second              n\n",
      "1077   5199627  1.039721                  there            adv\n",
      "938    5134590  1.039721                    get              v\n",
      "1450   5168587  1.039721                    get              v\n",
      "451    5096554  1.039721                     do              v\n",
      "165    5120425  1.039721                   here            adv\n",
      "1626   5136220  1.039721               fountain              n\n",
      "659    5096380  1.039721                     do              v\n",
      "646    5150278  1.039721                  sound              n\n",
      "757    5090955  1.011404                    day              n\n",
      "366    5145509  1.011404                   time              n\n",
      "521    5125380  1.011404                   know              v\n",
      "320    5145397  1.011404                   time              n\n",
      "462    5092490  1.011404                   mean              v\n",
      "1493   5090867  1.011404                    day              n\n",
      "93     5120245  1.011404                   know              v\n",
      "1696   5091322  1.011404                  truth              n\n",
      "1349   5098708  1.011404                   hair              n\n",
      "700    5150411  1.011404                   make              v\n",
      "1106   5183230  1.011404               together            adv\n",
      "563    5150064  1.004242                carrots              n\n",
      "513    5149945  1.004242                carrots              n\n",
      "1215   5149844  1.004242                carrots              n\n",
      "1018   5097923  1.004242                  wants              v\n",
      "727    5109515  0.950271                  think              v\n",
      "1260   5147099  0.950271                   hair              n\n",
      "455    5108848  0.950271                   want              v\n",
      "460    5119311  0.950271                    say              v\n",
      "1412   5147198  0.950271                   hair              n\n",
      "321    5124923  0.950271                   sing              v\n",
      "\n",
      "[100 rows x 4 columns]\n"
     ]
    }
   ],
   "source": [
    "\n",
    "tokens_df = tags_df[[\"token_id\", \"gloss_with_replacement\", \"part_of_speech\"]].drop_duplicates()\n",
    "\n",
    "merged_token_entropy = pd.merge(token_entropy_df, tokens_df, on=\"token_id\", how=\"left\")\n",
    "\n",
    "print(merged_token_entropy.sort_values(by=\"entropy\", ascending=False)[:100])\n",
    "\n",
    "merged_token_entropy.to_csv(\"tags_entropy.csv\", index=False)\n"
   ]
  },
  {
   "cell_type": "markdown",
   "metadata": {},
   "source": [
    "\n",
    "# KL Divergence\n",
    "\n"
   ]
  },
  {
   "cell_type": "markdown",
   "metadata": {},
   "source": [
    "### KL Divergence Computation (`scipy.stats.entropy`):"
   ]
  },
  {
   "cell_type": "code",
   "execution_count": 16,
   "metadata": {},
   "outputs": [],
   "source": [
    "import itertools\n",
    "\n",
    "\n",
    "def generate_kl(input_tags_df):\n",
    "    kl_df = pd.DataFrame()\n",
    "    \n",
    "    for token_id in token_id_set:\n",
    "        token_gloss = tags_df.loc[tags_df.token_id == token_id, \"gloss_with_replacement\"].iloc[0]\n",
    "        token_pos = tags_df.loc[tags_df.token_id == token_id, \"part_of_speech\"].iloc[0]\n",
    "        senses = list(map(lambda synset_obj: synset_obj.offset(), wn.synsets(token_gloss, pos_map[token_pos])))\n",
    "        \n",
    "        def get_prob_distribution(tagger):\n",
    "            chosen_senses_from_tagger = set(input_tags_df.loc[\n",
    "                (input_tags_df.token_id == token_id) & (input_tags_df.participant_id == tagger), \"sense_offset\"\n",
    "            ])\n",
    "            if not chosen_senses_from_tagger:\n",
    "                chosen_senses_from_tagger = set(senses)\n",
    "    \n",
    "            total_tags_by_tagger = len(chosen_senses_from_tagger)\n",
    "            return [(2 if sense_i in chosen_senses_from_tagger else 1) / (total_tags_by_tagger + 1) for sense_i in senses ]\n",
    "        \n",
    "        kl_sum = 0.0\n",
    "        \n",
    "        for tagger_a, tagger_b in itertools.permutations(participant_ids, 2):\n",
    "            sense_prob_dist_from_a = get_prob_distribution(tagger_a)\n",
    "            sense_prob_dist_from_b = get_prob_distribution(tagger_b)\n",
    "            \n",
    "            kl_sum += entropy(pk=sense_prob_dist_from_a, qk=sense_prob_dist_from_b)\n",
    "            \n",
    "        kl_df = kl_df.append({\n",
    "            \"token_id\": token_id,\n",
    "            \"avg_kl\": len(participant_ids) * (len(participant_ids) - 1) * kl_sum\n",
    "        }, ignore_index=True)\n",
    "    \n",
    "    kl_df.token_id = kl_df.token_id.astype(int)\n",
    "    return kl_df\n",
    "\n",
    "\n",
    "tags_kl_df = generate_kl(raw_tags_df)\n",
    "random_tags_kl_df = generate_kl(random_tags_df)\n"
   ]
  },
  {
   "cell_type": "markdown",
   "metadata": {},
   "source": [
    "### Result Showcase:"
   ]
  },
  {
   "cell_type": "code",
   "execution_count": 17,
   "metadata": {},
   "outputs": [
    {
     "name": "stdout",
     "output_type": "stream",
     "text": [
      "     avg_kl  token_id\n",
      "0  0.000000   5136384\n",
      "1  0.000000   5120004\n",
      "2  0.000000   5193741\n",
      "3  1.109035   5103634\n",
      "4  1.247665   5144602\n",
      "5  0.000000   5193754\n",
      "6  0.000000   5136418\n",
      "7  0.000000   5160995\n",
      "8  0.000000   5095460\n",
      "9  0.000000   5111857\n",
      "     avg_kl  token_id\n",
      "0  2.772589   5136384\n",
      "1  3.327106   5120004\n",
      "2  4.158883   5193741\n",
      "3  2.772589   5103634\n",
      "4  5.198604   5144602\n",
      "5  6.238325   5193754\n",
      "6  5.545177   5136418\n",
      "7  3.327106   5160995\n",
      "8  2.772589   5095460\n",
      "9  2.495330   5111857\n",
      "        avg_kl  token_id gloss_with_replacement part_of_speech\n",
      "1471  5.198604   5094221                  there            adv\n",
      "50    4.297513   5120285                   here            adv\n",
      "62    4.297513   5120346                   here            adv\n",
      "81    4.297513   5120425                   here            adv\n",
      "1670  4.297513   5136220               fountain              n\n",
      "918   4.158883   5108303                   here            adv\n",
      "1199  4.158883   5199627                  there            adv\n",
      "1003  4.158883   5100497                  there            adv\n",
      "487   4.158883   5106161                  there            adv\n",
      "605   4.158883   5131286                  there            adv\n",
      "1617  4.158883   5176857                  whole              n\n",
      "1282  3.465736   5101616                  there            adv\n",
      "801   3.465736   5115872                  there            adv\n",
      "1506  3.327106   5143538                   food              n\n",
      "1578  3.327106   5143904                   food              n\n",
      "1339  3.327106   5142816                   food              n\n",
      "1309  3.327106   5142708                   food              n\n",
      "856   3.327106   5165306                   cone              n\n",
      "79    3.327106   5136800                   here            adv\n",
      "1637  3.287498   5144213                   eggs              n\n",
      "51    3.193428   5095710                    let              v\n",
      "481   2.932223   5138903                  night              n\n",
      "456   2.856607   5138793                  night              n\n",
      "1092  2.840544   5125422                 better            adv\n",
      "876   2.772589   5165398                   cone              n\n",
      "1639  2.772589   5176983                  towns              n\n",
      "48    2.772589   5177627                  towns              n\n",
      "1680  2.772589   5177253                  towns              n\n",
      "1550  2.772589   5102825                  belly              n\n",
      "1594  2.772589   5103023                  belly              n\n",
      "...        ...       ...                    ...            ...\n",
      "979   1.643749   5108601                  think              v\n",
      "1095  1.633847   5150011                carrots              n\n",
      "1170  1.584336   5101206                   have              v\n",
      "807   1.576910   5099522                  think              v\n",
      "348   1.512321   5162850                    put              v\n",
      "49    1.512321   5144860                   bowl              n\n",
      "639   1.510071   5098708                   hair              n\n",
      "1075  1.485315   5092586                     do              v\n",
      "949   1.446568   5133025                   come              v\n",
      "307   1.425903   5179028                   eggs              n\n",
      "1441  1.417801   5176021                  world              n\n",
      "1407  1.417801   5175893                  world              n\n",
      "1048  1.397847   5092490                   mean              v\n",
      "1155  1.397847   5150278                  sound              n\n",
      "713   1.386294   5172803                 begins              v\n",
      "582   1.386294   5172112                 begins              v\n",
      "726   1.386294   5172857                 begins              v\n",
      "737   1.386294   5172907                 begins              v\n",
      "1470  1.386294   5102412                   know              v\n",
      "179   1.386294   5129158                   need              v\n",
      "143   1.386294   5120815                    out            adv\n",
      "663   1.386294   5180737              lightning              n\n",
      "261   1.386294   5129611                   kiss              v\n",
      "830   1.386294   5181541                thunder              n\n",
      "828   1.386294   5189726                    fat              n\n",
      "647   1.386294   5180649              lightning              n\n",
      "842   1.386294   5091484                   back            adj\n",
      "761   1.386294   5091100                   need              v\n",
      "1127  1.386294   5092788                    out            adv\n",
      "1585  1.386294   5168524                    lie              n\n",
      "\n",
      "[100 rows x 4 columns]\n"
     ]
    }
   ],
   "source": [
    "print(tags_kl_df[:10])\n",
    "print(random_tags_kl_df[:10])\n",
    "\n",
    "merged_token_kl = pd.merge(tags_kl_df, tokens_df, on=\"token_id\", how=\"left\")\n",
    "\n",
    "print(merged_token_kl.sort_values(by=\"avg_kl\", ascending=False)[:100])\n",
    "\n",
    "merged_token_kl.to_csv(\"tags_avg_kl.csv\", index=False)\n"
   ]
  },
  {
   "cell_type": "markdown",
   "metadata": {},
   "source": [
    "### Plot:"
   ]
  },
  {
   "cell_type": "code",
   "execution_count": 18,
   "metadata": {},
   "outputs": [
    {
     "data": {
      "text/plain": [
       "<matplotlib.legend.Legend at 0x7fee99f82f98>"
      ]
     },
     "execution_count": 18,
     "metadata": {},
     "output_type": "execute_result"
    },
    {
     "data": {
      "image/png": "[encoded data removed]",
      "text/plain": [
       "<Figure size 842.4x626.4 with 1 Axes>"
      ]
     },
     "metadata": {
      "needs_background": "light"
     },
     "output_type": "display_data"
    }
   ],
   "source": [
    "kl_dist_df = tags_kl_df[\"avg_kl\"]\n",
    "random_kl_dist_df = random_tags_kl_df[\"avg_kl\"]\n",
    "\n",
    "fig1, ax1 = pyplot.subplots(figsize=a4_dims)\n",
    "ax1.set_title(\"AVG KL Divergence Distribution (Random vs Collected)\")\n",
    "random_kl_dist_df.hist(alpha=0.5, label=\"Random Data\", ax=ax1)\n",
    "kl_dist_df.hist(alpha=0.5, label=\"Collected Data\", ax=ax1)\n",
    "ax1.legend()\n"
   ]
  },
  {
   "cell_type": "code",
   "execution_count": 34,
   "metadata": {},
   "outputs": [
    {
     "name": "stdout",
     "output_type": "stream",
     "text": [
      "        avg_kl  token_id\n",
      "1471  5.198604   5094221\n",
      "50    4.297513   5120285\n",
      "62    4.297513   5120346\n",
      "81    4.297513   5120425\n",
      "1670  4.297513   5136220\n"
     ]
    }
   ],
   "source": [
    "# Which individual tokens have the highest symmetrized KL divergence?\n",
    "highest_kl_tokens = tags_kl_df.sort_values(by=[\"avg_kl\"], ascending=False).head(5)\n",
    "print(highest_kl_tokens)"
   ]
  },
  {
   "cell_type": "code",
   "execution_count": 37,
   "metadata": {},
   "outputs": [
    {
     "data": {
      "text/html": [
       "<div>\n",
       "<style scoped>\n",
       "    .dataframe tbody tr th:only-of-type {\n",
       "        vertical-align: middle;\n",
       "    }\n",
       "\n",
       "    .dataframe tbody tr th {\n",
       "        vertical-align: top;\n",
       "    }\n",
       "\n",
       "    .dataframe thead th {\n",
       "        text-align: right;\n",
       "    }\n",
       "</style>\n",
       "<table border=\"1\" class=\"dataframe\">\n",
       "  <thead>\n",
       "    <tr style=\"text-align: right;\">\n",
       "      <th></th>\n",
       "      <th>gloss_with_replacement</th>\n",
       "      <th>participant_id</th>\n",
       "      <th>sense_offset</th>\n",
       "      <th>part_of_speech</th>\n",
       "      <th>token_id</th>\n",
       "    </tr>\n",
       "  </thead>\n",
       "  <tbody>\n",
       "    <tr>\n",
       "      <th>81</th>\n",
       "      <td>there</td>\n",
       "      <td>60</td>\n",
       "      <td>109461</td>\n",
       "      <td>adv</td>\n",
       "      <td>5094221</td>\n",
       "    </tr>\n",
       "    <tr>\n",
       "      <th>290</th>\n",
       "      <td>there</td>\n",
       "      <td>61</td>\n",
       "      <td>109151</td>\n",
       "      <td>adv</td>\n",
       "      <td>5094221</td>\n",
       "    </tr>\n",
       "    <tr>\n",
       "      <th>291</th>\n",
       "      <td>there</td>\n",
       "      <td>61</td>\n",
       "      <td>109328</td>\n",
       "      <td>adv</td>\n",
       "      <td>5094221</td>\n",
       "    </tr>\n",
       "    <tr>\n",
       "      <th>831</th>\n",
       "      <td>there</td>\n",
       "      <td>62</td>\n",
       "      <td>109151</td>\n",
       "      <td>adv</td>\n",
       "      <td>5094221</td>\n",
       "    </tr>\n",
       "    <tr>\n",
       "      <th>653</th>\n",
       "      <td>here</td>\n",
       "      <td>60</td>\n",
       "      <td>108479</td>\n",
       "      <td>adv</td>\n",
       "      <td>5120285</td>\n",
       "    </tr>\n",
       "    <tr>\n",
       "      <th>654</th>\n",
       "      <td>here</td>\n",
       "      <td>60</td>\n",
       "      <td>108647</td>\n",
       "      <td>adv</td>\n",
       "      <td>5120285</td>\n",
       "    </tr>\n",
       "    <tr>\n",
       "      <th>1060</th>\n",
       "      <td>here</td>\n",
       "      <td>61</td>\n",
       "      <td>108773</td>\n",
       "      <td>adv</td>\n",
       "      <td>5120285</td>\n",
       "    </tr>\n",
       "    <tr>\n",
       "      <th>1913</th>\n",
       "      <td>here</td>\n",
       "      <td>62</td>\n",
       "      <td>108479</td>\n",
       "      <td>adv</td>\n",
       "      <td>5120285</td>\n",
       "    </tr>\n",
       "    <tr>\n",
       "      <th>655</th>\n",
       "      <td>here</td>\n",
       "      <td>60</td>\n",
       "      <td>108479</td>\n",
       "      <td>adv</td>\n",
       "      <td>5120346</td>\n",
       "    </tr>\n",
       "    <tr>\n",
       "      <th>656</th>\n",
       "      <td>here</td>\n",
       "      <td>60</td>\n",
       "      <td>108647</td>\n",
       "      <td>adv</td>\n",
       "      <td>5120346</td>\n",
       "    </tr>\n",
       "    <tr>\n",
       "      <th>1061</th>\n",
       "      <td>here</td>\n",
       "      <td>61</td>\n",
       "      <td>108773</td>\n",
       "      <td>adv</td>\n",
       "      <td>5120346</td>\n",
       "    </tr>\n",
       "    <tr>\n",
       "      <th>1899</th>\n",
       "      <td>here</td>\n",
       "      <td>62</td>\n",
       "      <td>108479</td>\n",
       "      <td>adv</td>\n",
       "      <td>5120346</td>\n",
       "    </tr>\n",
       "    <tr>\n",
       "      <th>657</th>\n",
       "      <td>here</td>\n",
       "      <td>60</td>\n",
       "      <td>108479</td>\n",
       "      <td>adv</td>\n",
       "      <td>5120425</td>\n",
       "    </tr>\n",
       "    <tr>\n",
       "      <th>658</th>\n",
       "      <td>here</td>\n",
       "      <td>60</td>\n",
       "      <td>108647</td>\n",
       "      <td>adv</td>\n",
       "      <td>5120425</td>\n",
       "    </tr>\n",
       "    <tr>\n",
       "      <th>1062</th>\n",
       "      <td>here</td>\n",
       "      <td>61</td>\n",
       "      <td>108773</td>\n",
       "      <td>adv</td>\n",
       "      <td>5120425</td>\n",
       "    </tr>\n",
       "    <tr>\n",
       "      <th>1914</th>\n",
       "      <td>here</td>\n",
       "      <td>62</td>\n",
       "      <td>108479</td>\n",
       "      <td>adv</td>\n",
       "      <td>5120425</td>\n",
       "    </tr>\n",
       "    <tr>\n",
       "      <th>1240</th>\n",
       "      <td>fountain</td>\n",
       "      <td>60</td>\n",
       "      <td>3387926</td>\n",
       "      <td>n</td>\n",
       "      <td>5136220</td>\n",
       "    </tr>\n",
       "    <tr>\n",
       "      <th>4910</th>\n",
       "      <td>fountain</td>\n",
       "      <td>60</td>\n",
       "      <td>3388043</td>\n",
       "      <td>n</td>\n",
       "      <td>5136220</td>\n",
       "    </tr>\n",
       "    <tr>\n",
       "      <th>1559</th>\n",
       "      <td>fountain</td>\n",
       "      <td>61</td>\n",
       "      <td>3387815</td>\n",
       "      <td>n</td>\n",
       "      <td>5136220</td>\n",
       "    </tr>\n",
       "    <tr>\n",
       "      <th>2371</th>\n",
       "      <td>fountain</td>\n",
       "      <td>62</td>\n",
       "      <td>3387926</td>\n",
       "      <td>n</td>\n",
       "      <td>5136220</td>\n",
       "    </tr>\n",
       "  </tbody>\n",
       "</table>\n",
       "</div>"
      ],
      "text/plain": [
       "     gloss_with_replacement  participant_id  sense_offset part_of_speech  \\\n",
       "81                    there              60        109461            adv   \n",
       "290                   there              61        109151            adv   \n",
       "291                   there              61        109328            adv   \n",
       "831                   there              62        109151            adv   \n",
       "653                    here              60        108479            adv   \n",
       "654                    here              60        108647            adv   \n",
       "1060                   here              61        108773            adv   \n",
       "1913                   here              62        108479            adv   \n",
       "655                    here              60        108479            adv   \n",
       "656                    here              60        108647            adv   \n",
       "1061                   here              61        108773            adv   \n",
       "1899                   here              62        108479            adv   \n",
       "657                    here              60        108479            adv   \n",
       "658                    here              60        108647            adv   \n",
       "1062                   here              61        108773            adv   \n",
       "1914                   here              62        108479            adv   \n",
       "1240               fountain              60       3387926              n   \n",
       "4910               fountain              60       3388043              n   \n",
       "1559               fountain              61       3387815              n   \n",
       "2371               fountain              62       3387926              n   \n",
       "\n",
       "      token_id  \n",
       "81     5094221  \n",
       "290    5094221  \n",
       "291    5094221  \n",
       "831    5094221  \n",
       "653    5120285  \n",
       "654    5120285  \n",
       "1060   5120285  \n",
       "1913   5120285  \n",
       "655    5120346  \n",
       "656    5120346  \n",
       "1061   5120346  \n",
       "1899   5120346  \n",
       "657    5120425  \n",
       "658    5120425  \n",
       "1062   5120425  \n",
       "1914   5120425  \n",
       "1240   5136220  \n",
       "4910   5136220  \n",
       "1559   5136220  \n",
       "2371   5136220  "
      ]
     },
     "execution_count": 37,
     "metadata": {},
     "output_type": "execute_result"
    }
   ],
   "source": [
    "# use the token_id to get back the original tags\n",
    "tags_df.loc[tags_df.token_id.isin(highest_kl_tokens.token_id),].sort_values(by=['token_id', 'participant_id'])"
   ]
  },
  {
   "cell_type": "code",
   "execution_count": null,
   "metadata": {},
   "outputs": [],
   "source": [
    "# 5094221: 61 and 62 choose 109151;  60 chooses a different one; 61 also chooses 109328\n",
    "# 5120285: 60 and 62 choose 108479; 60 chooses also  chooses 108647; 61 chooses a different one  108773\n",
    "# these are all 4 tags, 1 agreeement between the participants. The computed KL divergence\n",
    "# is sensitive toe the total number of categories"
   ]
  },
  {
   "cell_type": "markdown",
   "metadata": {},
   "source": [
    "# Measures of Inter-Rater Agreement"
   ]
  },
  {
   "cell_type": "markdown",
   "metadata": {},
   "source": [
    "Take the subset of tokens with one label per person, and compute Fleiss's Kappa. What proportion of the tokens is this?"
   ]
  },
  {
   "cell_type": "code",
   "execution_count": 100,
   "metadata": {},
   "outputs": [
    {
     "data": {
      "text/plain": [
       "0.7125220458553791"
      ]
     },
     "execution_count": 100,
     "metadata": {},
     "output_type": "execute_result"
    }
   ],
   "source": [
    "tags_per_participant = tags_df.groupby(['token_id','participant_id'])['sense_offset'].agg(lambda x: len(np.unique(x))).reset_index()\n",
    "tags_per_participant.head(5)\n",
    "one_tag_per_participant = tags_per_participant.loc[tags_per_participant.sense_offset == 1]\n",
    "one_tag_per_participant.head(5)\n",
    "num_onetags_per_token = one_tag_per_particiapnt.groupby(['token_id']).sense_offset.agg(np.sum).reset_index()\n",
    "float(num_onetags_per_token.loc[num_onetags_per_token.sense_offset ==3].shape[0]) / len(np.unique(tags_df.token_id))"
   ]
  },
  {
   "cell_type": "code",
   "execution_count": 101,
   "metadata": {},
   "outputs": [
    {
     "data": {
      "text/plain": [
       "1628.0"
      ]
     },
     "execution_count": 101,
     "metadata": {},
     "output_type": "execute_result"
    }
   ],
   "source": [
    "float(num_onetags_per_token.shape[0])"
   ]
  },
  {
   "cell_type": "code",
   "execution_count": 102,
   "metadata": {},
   "outputs": [
    {
     "data": {
      "text/plain": [
       "3    1212\n",
       "2     273\n",
       "1     139\n",
       "5       3\n",
       "4       1\n",
       "Name: sense_offset, dtype: int64"
      ]
     },
     "execution_count": 102,
     "metadata": {},
     "output_type": "execute_result"
    }
   ],
   "source": [
    "num_onetags_per_token.sense_offset.value_counts()"
   ]
  },
  {
   "cell_type": "code",
   "execution_count": 103,
   "metadata": {},
   "outputs": [],
   "source": [
    "# so for these 1212 / 70% of tokens we can compute Fleiss's Kappa"
   ]
  },
  {
   "cell_type": "code",
   "execution_count": 104,
   "metadata": {},
   "outputs": [],
   "source": [
    "tags_df_3tags = tags_df.loc[tags_df.token_id.isin(num_onetags_per_token.loc[\n",
    "    num_onetags_per_token.sense_offset == 3].token_id)]"
   ]
  },
  {
   "cell_type": "code",
   "execution_count": 97,
   "metadata": {},
   "outputs": [
    {
     "name": "stdout",
     "output_type": "stream",
     "text": [
      "1212\n",
      "353\n"
     ]
    }
   ],
   "source": [
    "# populate the matrix of the format necessary to compute Fleiss's Kappa\n",
    "token_ids = np.unique(tags_df_3tags.token_id)\n",
    "sense_ids = np.unique(tags_df_3tags.sense_offset)\n",
    "\n",
    "N = len(token_ids)\n",
    "print(N)\n",
    "k = len(sense_ids)\n",
    "print(k)\n",
    "\n",
    "tag_matrix = np.zeros([N,k])\n",
    "\n",
    "for record in tags_df_3tags.to_dict('records'):\n",
    "    tag_matrix[np.argwhere(token_ids == record['token_id']), \n",
    "        np.argwhere(sense_ids == record['sense_offset'])] +=1 "
   ]
  },
  {
   "cell_type": "code",
   "execution_count": 105,
   "metadata": {},
   "outputs": [],
   "source": [
    "def fleiss_kappa(M):\n",
    "  '''\n",
    "  See `Fleiss' Kappa <https://en.wikipedia.org/wiki/Fleiss%27_kappa>`_.\n",
    "  :param M: a matrix of shape (:attr:`N`, :attr:`k`) where `N` is the number of subjects\n",
    "  :and `k` is the number of categories into which assignments are made. \n",
    "  :`M[i, j]` represent the number of raters who assigned the `i`th subject to the `j`th category.\n",
    "  :type M: numpy matrix\n",
    "  '''\n",
    "  N, k = M.shape  # N is # of items, k is # of categories\n",
    "  n_annotators = float(np.sum(M[0, :]))  # # of annotators\n",
    "\n",
    "  p = np.sum(M, axis=0) / (N * n_annotators)\n",
    "  P = (np.sum(M * M, axis=1) - n_annotators) / (n_annotators * (n_annotators - 1))\n",
    "  Pbar = np.sum(P) / N\n",
    "  PbarE = np.sum(p * p)\n",
    "\n",
    "  kappa = (Pbar - PbarE) / (1 - PbarE)\n",
    "\n",
    "  return kappa"
   ]
  },
  {
   "cell_type": "code",
   "execution_count": 106,
   "metadata": {},
   "outputs": [
    {
     "data": {
      "text/plain": [
       "0.9059610129109003"
      ]
     },
     "execution_count": 106,
     "metadata": {},
     "output_type": "execute_result"
    }
   ],
   "source": [
    "fleiss_kappa(tag_matrix)"
   ]
  },
  {
   "cell_type": "markdown",
   "metadata": {},
   "source": [
    "## Number of Judgments Needed For Filtering Policy"
   ]
  },
  {
   "cell_type": "code",
   "execution_count": 93,
   "metadata": {},
   "outputs": [],
   "source": [
    "import pandas as pd\n",
    "import nltk\n",
    "from nltk.corpus import wordnet\n",
    "from nltk.stem import WordNetLemmatizer "
   ]
  },
  {
   "cell_type": "code",
   "execution_count": 94,
   "metadata": {},
   "outputs": [],
   "source": [
    "import postgres_config\n",
    "import imp\n",
    "imp.reload(postgres_config)\n",
    "from sqlalchemy import create_engine\n",
    "wordsense_auth = postgres_config.Authenticator('WordSense')\n",
    "engine = create_engine(wordsense_auth.connectionString)"
   ]
  },
  {
   "cell_type": "code",
   "execution_count": 95,
   "metadata": {},
   "outputs": [],
   "source": [
    "# providence is 49; manchester is 15 (get from childes-db)\n",
    "derived_tokens = pd.read_sql_query('SELECT * from derived_tokens where corpus_id = 49 and requires_tags = True', engine)"
   ]
  },
  {
   "cell_type": "code",
   "execution_count": 96,
   "metadata": {},
   "outputs": [
    {
     "data": {
      "text/plain": [
       "(642624, 11)"
      ]
     },
     "execution_count": 96,
     "metadata": {},
     "output_type": "execute_result"
    }
   ],
   "source": [
    "derived_tokens.shape"
   ]
  },
  {
   "cell_type": "code",
   "execution_count": 97,
   "metadata": {},
   "outputs": [
    {
     "data": {
      "text/plain": [
       "Index(['id', 'token_id', 'gloss_with_replacement', 'part_of_speech',\n",
       "       'utterance_id', 'transcript_id', 'corpus_id', 'collection_id',\n",
       "       'requires_tags', 'speaker_name', 'speaker_role'],\n",
       "      dtype='object')"
      ]
     },
     "execution_count": 97,
     "metadata": {},
     "output_type": "execute_result"
    }
   ],
   "source": [
    "derived_tokens.columns"
   ]
  },
  {
   "cell_type": "code",
   "execution_count": 98,
   "metadata": {},
   "outputs": [
    {
     "data": {
      "text/html": [
       "<div>\n",
       "<style scoped>\n",
       "    .dataframe tbody tr th:only-of-type {\n",
       "        vertical-align: middle;\n",
       "    }\n",
       "\n",
       "    .dataframe tbody tr th {\n",
       "        vertical-align: top;\n",
       "    }\n",
       "\n",
       "    .dataframe thead th {\n",
       "        text-align: right;\n",
       "    }\n",
       "</style>\n",
       "<table border=\"1\" class=\"dataframe\">\n",
       "  <thead>\n",
       "    <tr style=\"text-align: right;\">\n",
       "      <th></th>\n",
       "      <th>full_pos</th>\n",
       "      <th>short_pos</th>\n",
       "    </tr>\n",
       "  </thead>\n",
       "  <tbody>\n",
       "    <tr>\n",
       "      <th>0</th>\n",
       "      <td>adj</td>\n",
       "      <td>adj</td>\n",
       "    </tr>\n",
       "    <tr>\n",
       "      <th>1</th>\n",
       "      <td>adv</td>\n",
       "      <td>adv</td>\n",
       "    </tr>\n",
       "    <tr>\n",
       "      <th>2</th>\n",
       "      <td>n</td>\n",
       "      <td>n</td>\n",
       "    </tr>\n",
       "    <tr>\n",
       "      <th>3</th>\n",
       "      <td>v</td>\n",
       "      <td>v</td>\n",
       "    </tr>\n",
       "  </tbody>\n",
       "</table>\n",
       "</div>"
      ],
      "text/plain": [
       "  full_pos short_pos\n",
       "0      adj       adj\n",
       "1      adv       adv\n",
       "2        n         n\n",
       "3        v         v"
      ]
     },
     "execution_count": 98,
     "metadata": {},
     "output_type": "execute_result"
    }
   ],
   "source": [
    "childes_to_wordnet_pos = {\"adj\": wordnet.ADJ,\n",
    "                \"n\": wordnet.NOUN,\n",
    "                \"v\": wordnet.VERB,\n",
    "                \"adv\": wordnet.ADV}\n",
    "\n",
    "pos_map = pd.DataFrame({'full_pos':np.unique(derived_tokens.part_of_speech)})\n",
    "def downsample_pos(full_pos):\n",
    "    if full_pos in childes_to_wordnet_pos.keys():\n",
    "        return(full_pos)\n",
    "    elif full_pos.split(':')[0] in childes_to_wordnet_pos.keys():\n",
    "        return(full_pos.split(':')[0])    \n",
    "    elif ' ' in full_pos.split():\n",
    "        print('POS contains space: '+full_pos)\n",
    "        return(None)\n",
    "    else:\n",
    "        print('Not recognized! '+full_pos)        \n",
    "        return(None)\n",
    "    \n",
    "pos_map['short_pos'] = [downsample_pos(x) for x in pos_map.full_pos]\n",
    "pos_map"
   ]
  },
  {
   "cell_type": "code",
   "execution_count": 99,
   "metadata": {},
   "outputs": [],
   "source": [
    "derived_tokens = derived_tokens.merge(pos_map, left_on='part_of_speech', right_on='full_pos')"
   ]
  },
  {
   "cell_type": "code",
   "execution_count": 100,
   "metadata": {},
   "outputs": [
    {
     "data": {
      "text/plain": [
       "(642624, 13)"
      ]
     },
     "execution_count": 100,
     "metadata": {},
     "output_type": "execute_result"
    }
   ],
   "source": [
    "derived_tokens.shape"
   ]
  },
  {
   "cell_type": "code",
   "execution_count": 103,
   "metadata": {},
   "outputs": [],
   "source": [
    "lemmatizer = WordNetLemmatizer()\n",
    "\n",
    "def get_lemma_for_token_and_pos(token, childes_pos, lemmatizer, childes_to_wordnet_pos):\n",
    "    if childes_pos in childes_to_wordnet_pos:\n",
    "        return(lemmatizer.lemmatize(token, childes_to_wordnet_pos[childes_pos]))\n",
    "    else:\n",
    "        print('Unrecognized part of speech! '+ token+' '+childes_pos)\n",
    "        return(None)"
   ]
  },
  {
   "cell_type": "code",
   "execution_count": 110,
   "metadata": {},
   "outputs": [],
   "source": [
    "derived_tokens = derived_tokens.sort_values(by = 'token_id')"
   ]
  },
  {
   "cell_type": "code",
   "execution_count": 112,
   "metadata": {},
   "outputs": [],
   "source": [
    "rv = []\n",
    "for record in derived_tokens.to_dict('records'):\n",
    "    record['lemma'] = get_lemma_for_token_and_pos(\n",
    "        record['gloss_with_replacement'],\n",
    "        record['part_of_speech'], lemmatizer, childes_to_wordnet_pos)\n",
    "    rv.append(record)\n",
    "derived_tokens_with_lemmas = pd.DataFrame(rv)"
   ]
  },
  {
   "cell_type": "code",
   "execution_count": 116,
   "metadata": {},
   "outputs": [],
   "source": [
    "derived_tokens_with_lemmas = derived_tokens_with_lemmas.dropna(axis=0,subset=['lemma'])"
   ]
  },
  {
   "cell_type": "code",
   "execution_count": 130,
   "metadata": {},
   "outputs": [
    {
     "data": {
      "text/html": [
       "<div>\n",
       "<style scoped>\n",
       "    .dataframe tbody tr th:only-of-type {\n",
       "        vertical-align: middle;\n",
       "    }\n",
       "\n",
       "    .dataframe tbody tr th {\n",
       "        vertical-align: top;\n",
       "    }\n",
       "\n",
       "    .dataframe thead th {\n",
       "        text-align: right;\n",
       "    }\n",
       "</style>\n",
       "<table border=\"1\" class=\"dataframe\">\n",
       "  <thead>\n",
       "    <tr style=\"text-align: right;\">\n",
       "      <th></th>\n",
       "      <th>id</th>\n",
       "      <th>word</th>\n",
       "      <th>language</th>\n",
       "      <th>form</th>\n",
       "      <th>type</th>\n",
       "      <th>category</th>\n",
       "      <th>lexical_category</th>\n",
       "      <th>lexical_class</th>\n",
       "      <th>uni_lemma</th>\n",
       "      <th>aoa_in_seconds</th>\n",
       "      <th>aoa</th>\n",
       "    </tr>\n",
       "  </thead>\n",
       "  <tbody>\n",
       "    <tr>\n",
       "      <th>0</th>\n",
       "      <td>0</td>\n",
       "      <td>daddy (child's word)</td>\n",
       "      <td>English (American)</td>\n",
       "      <td>WG</td>\n",
       "      <td>word</td>\n",
       "      <td>people</td>\n",
       "      <td>other</td>\n",
       "      <td>other</td>\n",
       "      <td>daddy</td>\n",
       "      <td>29808000.0</td>\n",
       "      <td>345</td>\n",
       "    </tr>\n",
       "    <tr>\n",
       "      <th>1</th>\n",
       "      <td>1</td>\n",
       "      <td>mommy (child's word)</td>\n",
       "      <td>English (American)</td>\n",
       "      <td>WG</td>\n",
       "      <td>word</td>\n",
       "      <td>people</td>\n",
       "      <td>other</td>\n",
       "      <td>other</td>\n",
       "      <td>mommy</td>\n",
       "      <td>30240000.0</td>\n",
       "      <td>350</td>\n",
       "    </tr>\n",
       "    <tr>\n",
       "      <th>2</th>\n",
       "      <td>2</td>\n",
       "      <td>bye</td>\n",
       "      <td>English (American)</td>\n",
       "      <td>WG</td>\n",
       "      <td>word</td>\n",
       "      <td>games_routines</td>\n",
       "      <td>other</td>\n",
       "      <td>other</td>\n",
       "      <td>bye</td>\n",
       "      <td>35164800.0</td>\n",
       "      <td>407</td>\n",
       "    </tr>\n",
       "  </tbody>\n",
       "</table>\n",
       "</div>"
      ],
      "text/plain": [
       "   id                  word            language form  type        category  \\\n",
       "0   0  daddy (child's word)  English (American)   WG  word          people   \n",
       "1   1  mommy (child's word)  English (American)   WG  word          people   \n",
       "2   2                   bye  English (American)   WG  word  games_routines   \n",
       "\n",
       "  lexical_category lexical_class uni_lemma  aoa_in_seconds  aoa  \n",
       "0            other         other     daddy      29808000.0  345  \n",
       "1            other         other     mommy      30240000.0  350  \n",
       "2            other         other       bye      35164800.0  407  "
      ]
     },
     "execution_count": 130,
     "metadata": {},
     "output_type": "execute_result"
    }
   ],
   "source": [
    "cdi_items = pd.read_csv('/home/stephan/python/WordSense/data/WSWG_50percentproducing.csv')\n",
    "cdi_items.iloc[0:3]"
   ]
  },
  {
   "cell_type": "code",
   "execution_count": 133,
   "metadata": {},
   "outputs": [],
   "source": [
    "derived_tokens_with_lemmas['in_cdi'] = [x in set(cdi_items.uni_lemma) for x in \n",
    "    derived_tokens_with_lemmas.gloss_with_replacement]"
   ]
  },
  {
   "cell_type": "code",
   "execution_count": 134,
   "metadata": {},
   "outputs": [
    {
     "data": {
      "text/plain": [
       "0.47396300169305844"
      ]
     },
     "execution_count": 134,
     "metadata": {},
     "output_type": "execute_result"
    }
   ],
   "source": [
    "np.mean(derived_tokens_with_lemmas.in_cdi.astype(int))"
   ]
  },
  {
   "cell_type": "code",
   "execution_count": 117,
   "metadata": {},
   "outputs": [],
   "source": []
  },
  {
   "cell_type": "code",
   "execution_count": 135,
   "metadata": {},
   "outputs": [],
   "source": [
    "def getNumToAnnotateForThreshold(df, token_threshold):\n",
    "    tc = df.groupby('gloss_with_replacement').id.aggregate(np.size).reset_index()\n",
    "    tc.columns = ['token','count']    \n",
    "    tc['count'] = [x if x < token_threshold else token_threshold for x in \n",
    "                             tc['count']]\n",
    "    return(np.sum(tc['count']))"
   ]
  },
  {
   "cell_type": "code",
   "execution_count": 136,
   "metadata": {},
   "outputs": [
    {
     "data": {
      "text/plain": [
       "54532"
      ]
     },
     "execution_count": 136,
     "metadata": {},
     "output_type": "execute_result"
    }
   ],
   "source": [
    "getNumToAnnotateForThreshold(derived_tokens_with_lemmas, 10)"
   ]
  },
  {
   "cell_type": "code",
   "execution_count": 139,
   "metadata": {
    "scrolled": false
   },
   "outputs": [],
   "source": [
    "all_tokens_counts = pd.DataFrame({\"threshold\":np.array(range(100))})\n",
    "all_tokens_counts['num_to_annotate'] = [getNumToAnnotateForThreshold(derived_tokens_with_lemmas, x) for x in all_tokens_counts.threshold]\n",
    "all_tokens_counts['percent_original'] = all_tokens_counts.num_to_annotate / np.sum(token_counts['count'])\n",
    "all_tokens_counts['wordset'] = 'all'"
   ]
  },
  {
   "cell_type": "code",
   "execution_count": 140,
   "metadata": {},
   "outputs": [],
   "source": [
    "cdi_only = derived_tokens_with_lemmas.loc[derived_tokens_with_lemmas.in_cdi]\n",
    "cdi_only_counts = pd.DataFrame({\"threshold\":np.array(range(100))})\n",
    "cdi_only_counts ['num_to_annotate'] = [getNumToAnnotateForThreshold(cdi_only, x) for x in cdi_only_counts.threshold]\n",
    "cdi_only_counts ['percent_original'] = cdi_only_counts.num_to_annotate / np.sum(token_counts['count'])\n",
    "cdi_only_counts['wordset'] = 'cdi_only'"
   ]
  },
  {
   "cell_type": "code",
   "execution_count": 141,
   "metadata": {},
   "outputs": [],
   "source": [
    "counts = pd.concat([all_tokens_counts, cdi_only_counts])"
   ]
  },
  {
   "cell_type": "code",
   "execution_count": 146,
   "metadata": {},
   "outputs": [],
   "source": [
    "%R -i counts"
   ]
  },
  {
   "cell_type": "code",
   "execution_count": 150,
   "metadata": {},
   "outputs": [
    {
     "data": {
      "image/png": "[encoded data removed]"
     },
     "metadata": {},
     "output_type": "display_data"
    }
   ],
   "source": [
    "%%R\n",
    "ggplot(counts) + geom_line(aes(x=threshold, y=num_to_annotate, color=wordset)) + theme_bw(\n",
    ") + ylab('Number of tokens needing annotation') + xlab('Subsample: number of tokens per type')"
   ]
  },
  {
   "cell_type": "code",
   "execution_count": 156,
   "metadata": {},
   "outputs": [
    {
     "data": {
      "text/plain": [
       "Index(['qID', 'n', 'mean', 'median', 'sd', 'se', 'word', 'wordnet_sense.no',\n",
       "       'definition', 'single_example'],\n",
       "      dtype='object')"
      ]
     },
     "execution_count": 156,
     "metadata": {},
     "output_type": "execute_result"
    }
   ],
   "source": [
    "nTe = pd.read_csv('../../data/nTe_understand_data.csv')\n",
    "nTe.columns"
   ]
  },
  {
   "cell_type": "code",
   "execution_count": 157,
   "metadata": {},
   "outputs": [],
   "source": [
    "nTe['in_cdi'] = [x in set(cdi_items.uni_lemma) for x in nTe.word]"
   ]
  },
  {
   "cell_type": "code",
   "execution_count": 177,
   "metadata": {},
   "outputs": [],
   "source": [
    "nTe['floor_age'] = [np.floor(x) for x in nTe['mean']]\n",
    "num_senses_per_word_at_age = []\n",
    "for age in range(0,12):\n",
    "    known_senses = nTe.loc[nTe.floor_age <= age]\n",
    "    num_senses_per_word = known_senses.groupby(['word']).qID.agg(np.size).reset_index()\n",
    "    num_senses_per_word['age'] = age\n",
    "    num_senses_per_word_at_age.append(num_senses_per_word)\n",
    "\n",
    "nTe_age_counts = pd.concat(num_senses_per_word_at_age)    \n",
    "%R -i nTe_age_counts"
   ]
  },
  {
   "cell_type": "code",
   "execution_count": 185,
   "metadata": {},
   "outputs": [
    {
     "data": {
      "image/png": "[encoded data removed]"
     },
     "metadata": {},
     "output_type": "display_data"
    }
   ],
   "source": [
    "%%R\n",
    "names(nTe_age_counts)\n",
    "#want the distribuion over number of senses for those words with at least one sense\n",
    "\n",
    "ggplot(nTe_age_counts) + geom_histogram(aes(x=qID), binwidth=1) + facet_wrap(~age)  + theme_classic(\n",
    ") + ylab('Number of Words') + xlab('Number of Senses') + ggtitle(\n",
    "'Number of Senses Per Word for Words in CDI at Age, per Tse data') + coord_cartesian(xlim=c(0,15))"
   ]
  },
  {
   "cell_type": "code",
   "execution_count": null,
   "metadata": {},
   "outputs": [],
   "source": [
    "Two concerns:\n",
    "[ ] Lemmatization -- try spacy\n",
    "[ ] Mapping to CDI items"
   ]
  }
 ],
 "metadata": {
  "kernelspec": {
   "display_name": "WordSense",
   "language": "python",
   "name": "wordsense"
  },
  "language_info": {
   "codemirror_mode": {
    "name": "ipython",
    "version": 3
   },
   "file_extension": ".py",
   "mimetype": "text/x-python",
   "name": "python",
   "nbconvert_exporter": "python",
   "pygments_lexer": "ipython3",
   "version": "3.5.2"
  }
 },
 "nbformat": 4,
 "nbformat_minor": 1
}
